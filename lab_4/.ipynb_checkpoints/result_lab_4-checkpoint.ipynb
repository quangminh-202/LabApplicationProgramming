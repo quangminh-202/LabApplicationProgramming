{
 "cells": [
  {
   "cell_type": "code",
   "execution_count": 56,
   "id": "ea20f76e-7b15-48c4-8b14-6cfea57ca99f",
   "metadata": {},
   "outputs": [
    {
     "name": "stdout",
     "output_type": "stream",
     "text": [
      "      num                                               text\n",
      "0       1  11 марта этого года переводила 145 в Германию(...\n",
      "1       1  В пятницу, 22 апреля 2022 г. Сбербанк заблокир...\n",
      "2       1  Здравствуйте. Перед оформлением досудебной пре...\n",
      "3       1  Я являюсь клиентом Сбербанка уже более десяти ...\n",
      "4       1                           Сбербанк обман с FullPay\n",
      "...   ...                                                ...\n",
      "4205    5                                       Мне нравится\n",
      "4206    5                                        Лучший банк\n",
      "4207    5                                      Отличный банк\n",
      "4208    5                                        Лучший банк\n",
      "4209    5                                           Мой сбер\n",
      "\n",
      "[4210 rows x 2 columns]\n"
     ]
    }
   ],
   "source": [
    "import csv\n",
    "import re\n",
    "import os\n",
    "import matplotlib.pyplot as plt\n",
    "import pandas as pd\n",
    "import numpy as np\n",
    "import nltk\n",
    "from annotation import Annotation\n",
    "from create_annotation import create_annotation as crt\n",
    "from typing import List, Dict, Tuple\n",
    "from collections import Counter\n",
    "from nltk.corpus import stopwords\n",
    "from pymystem3 import Mystem\n",
    "from pymorphy3 import MorphAnalyzer\n",
    "\n",
    "stopwords_ru = set(stopwords.words('russian'))\n",
    "patterns = re.compile(\n",
    "    r'\\.|\\,|\\!|\\?|\\;|\\:|\\(|\\)|\\&|\\=|\\<|\\>|\\[|\\]|\\{|\\}|\\~|\\`|\\\"|\\'|'\n",
    "    r'\\/|\\\\|\\||\\-'\n",
    ")\n",
    "morph = MorphAnalyzer()\n",
    "\n",
    "def read_csv_to_dataframe(csv_path: str) -> pd.DataFrame:\n",
    "    try:\n",
    "        df_csv = pd.read_csv(csv_path)\n",
    "        texts = []\n",
    "\n",
    "        for absolute_path, label in zip(df_csv['Absolute Path'], df_csv['Label']):\n",
    "            with open(absolute_path, 'r', encoding='utf-8') as file:\n",
    "                text = file.read()\n",
    "                texts.append((label, text))\n",
    "\n",
    "        df_result = pd.DataFrame(texts, columns=['num', 'text'])\n",
    "        return df_result\n",
    "    except FileNotFoundError:\n",
    "        print(f\"File not found: {csv_path}\")\n",
    "        return None\n",
    "    except Exception as e:\n",
    "        print(f\"An error occurred: {e}\")\n",
    "        return None\n",
    "csv_path = \"file_csv.csv\"\n",
    "df = read_csv_to_dataframe(csv_path)\n",
    "print(df)\n"
   ]
  },
  {
   "cell_type": "code",
   "execution_count": 47,
   "id": "f2f8b23e-29cd-4754-b4af-2d3a229b78ed",
   "metadata": {},
   "outputs": [
    {
     "name": "stdout",
     "output_type": "stream",
     "text": [
      "num     0\n",
      "text    0\n",
      "dtype: int64\n"
     ]
    },
    {
     "data": {
      "text/html": [
       "<div>\n",
       "<style scoped>\n",
       "    .dataframe tbody tr th:only-of-type {\n",
       "        vertical-align: middle;\n",
       "    }\n",
       "\n",
       "    .dataframe tbody tr th {\n",
       "        vertical-align: top;\n",
       "    }\n",
       "\n",
       "    .dataframe thead th {\n",
       "        text-align: right;\n",
       "    }\n",
       "</style>\n",
       "<table border=\"1\" class=\"dataframe\">\n",
       "  <thead>\n",
       "    <tr style=\"text-align: right;\">\n",
       "      <th></th>\n",
       "      <th>num</th>\n",
       "      <th>text</th>\n",
       "    </tr>\n",
       "  </thead>\n",
       "  <tbody>\n",
       "    <tr>\n",
       "      <th>0</th>\n",
       "      <td>1</td>\n",
       "      <td>11 марта этого года переводила 145 в Германию(...</td>\n",
       "    </tr>\n",
       "    <tr>\n",
       "      <th>1</th>\n",
       "      <td>1</td>\n",
       "      <td>В пятницу, 22 апреля 2022 г. Сбербанк заблокир...</td>\n",
       "    </tr>\n",
       "    <tr>\n",
       "      <th>2</th>\n",
       "      <td>1</td>\n",
       "      <td>Здравствуйте. Перед оформлением досудебной пре...</td>\n",
       "    </tr>\n",
       "    <tr>\n",
       "      <th>3</th>\n",
       "      <td>1</td>\n",
       "      <td>Я являюсь клиентом Сбербанка уже более десяти ...</td>\n",
       "    </tr>\n",
       "    <tr>\n",
       "      <th>4</th>\n",
       "      <td>1</td>\n",
       "      <td>Сбербанк обман с FullPay</td>\n",
       "    </tr>\n",
       "    <tr>\n",
       "      <th>...</th>\n",
       "      <td>...</td>\n",
       "      <td>...</td>\n",
       "    </tr>\n",
       "    <tr>\n",
       "      <th>4205</th>\n",
       "      <td>5</td>\n",
       "      <td>Мне нравится</td>\n",
       "    </tr>\n",
       "    <tr>\n",
       "      <th>4206</th>\n",
       "      <td>5</td>\n",
       "      <td>Лучший банк</td>\n",
       "    </tr>\n",
       "    <tr>\n",
       "      <th>4207</th>\n",
       "      <td>5</td>\n",
       "      <td>Отличный банк</td>\n",
       "    </tr>\n",
       "    <tr>\n",
       "      <th>4208</th>\n",
       "      <td>5</td>\n",
       "      <td>Лучший банк</td>\n",
       "    </tr>\n",
       "    <tr>\n",
       "      <th>4209</th>\n",
       "      <td>5</td>\n",
       "      <td>Мой сбер</td>\n",
       "    </tr>\n",
       "  </tbody>\n",
       "</table>\n",
       "<p>4210 rows × 2 columns</p>\n",
       "</div>"
      ],
      "text/plain": [
       "      num                                               text\n",
       "0       1  11 марта этого года переводила 145 в Германию(...\n",
       "1       1  В пятницу, 22 апреля 2022 г. Сбербанк заблокир...\n",
       "2       1  Здравствуйте. Перед оформлением досудебной пре...\n",
       "3       1  Я являюсь клиентом Сбербанка уже более десяти ...\n",
       "4       1                           Сбербанк обман с FullPay\n",
       "...   ...                                                ...\n",
       "4205    5                                       Мне нравится\n",
       "4206    5                                        Лучший банк\n",
       "4207    5                                      Отличный банк\n",
       "4208    5                                        Лучший банк\n",
       "4209    5                                           Мой сбер\n",
       "\n",
       "[4210 rows x 2 columns]"
      ]
     },
     "execution_count": 47,
     "metadata": {},
     "output_type": "execute_result"
    }
   ],
   "source": [
    "print(df.isnull().sum())\n",
    "df.dropna()"
   ]
  },
  {
   "cell_type": "code",
   "execution_count": 14,
   "id": "a42880b6-6e33-41ff-9710-8173c57ef49a",
   "metadata": {},
   "outputs": [
    {
     "name": "stdout",
     "output_type": "stream",
     "text": [
      "      num                                               text  word_count\n",
      "0       1  11 марта этого года переводила 145 в Германию(...         273\n",
      "1       1  В пятницу, 22 апреля 2022 г. Сбербанк заблокир...         619\n",
      "2       1  Здравствуйте. Перед оформлением досудебной пре...         297\n",
      "3       1  Я являюсь клиентом Сбербанка уже более десяти ...         531\n",
      "4       1                           Сбербанк обман с FullPay           4\n",
      "...   ...                                                ...         ...\n",
      "4205    5                                       Мне нравится           2\n",
      "4206    5                                        Лучший банк           2\n",
      "4207    5                                      Отличный банк           2\n",
      "4208    5                                        Лучший банк           2\n",
      "4209    5                                           Мой сбер           2\n",
      "\n",
      "[4210 rows x 3 columns]\n"
     ]
    }
   ],
   "source": [
    "def text_update(text: str) -> List[str]:\n",
    "    text = re.sub(r\"[^\\w\\s]\", \"\", text)\n",
    "    return text.split()\n",
    "\n",
    "def word_count(df: pd.DataFrame) -> pd.DataFrame:\n",
    "    df['word_count'] = df['text'].apply(lambda x: len(text_update(x)))\n",
    "    return df\n",
    "word_count(df)\n",
    "print(df)"
   ]
  },
  {
   "cell_type": "code",
   "execution_count": 25,
   "id": "8d88a6aa-2c7e-4934-94f8-3f30678ddaab",
   "metadata": {},
   "outputs": [
    {
     "name": "stdout",
     "output_type": "stream",
     "text": [
      "               num   word_count\n",
      "count  4210.000000  4210.000000\n",
      "mean      2.567696     4.819477\n",
      "std       1.540088    15.139415\n",
      "min       1.000000     0.000000\n",
      "25%       1.000000     2.000000\n",
      "50%       2.000000     4.000000\n",
      "75%       4.000000     6.000000\n",
      "max       5.000000   619.000000\n"
     ]
    }
   ],
   "source": [
    "print(df.describe())"
   ]
  },
  {
   "cell_type": "code",
   "execution_count": 21,
   "id": "36900f92-8ec8-4c69-95ea-5fdeea8ab44c",
   "metadata": {},
   "outputs": [
    {
     "name": "stdout",
     "output_type": "stream",
     "text": [
      "      num                                          text  word_count\n",
      "4       1                      Сбербанк обман с FullPay           4\n",
      "5       1                             ДЕНЬГИ ИЗ ВОЗДУХА           3\n",
      "6       1                    Незаконность и безразличие           3\n",
      "7       1  Сбербанк - обманщики, халтурщики и [цензура]           5\n",
      "11      1                 Да простит вас БОГ мошенники!           5\n",
      "...   ...                                           ...         ...\n",
      "4205    5                                  Мне нравится           2\n",
      "4206    5                                   Лучший банк           2\n",
      "4207    5                                 Отличный банк           2\n",
      "4208    5                                   Лучший банк           2\n",
      "4209    5                                      Мой сбер           2\n",
      "\n",
      "[3052 rows x 3 columns]\n"
     ]
    }
   ],
   "source": [
    "def filter_by_word(df: pd.DataFrame, max_count: int) -> pd.DataFrame:\n",
    "    return df.loc[df['word_count'] <= max_count]\n",
    "print(filter_by_word(df, 5))"
   ]
  },
  {
   "cell_type": "code",
   "execution_count": 24,
   "id": "08b0d70e-2348-4398-95ef-e9a91bfad909",
   "metadata": {},
   "outputs": [
    {
     "name": "stdout",
     "output_type": "stream",
     "text": [
      "      num                                               text  word_count\n",
      "1684    2  Была в сбербанке. Хотите ипотеку ? Приготовьте...           9\n",
      "1685    2      У стариков снимают пенсии! (Реальная история)           6\n",
      "1686    2  История о том, как я чуть было не стала жертво...          12\n",
      "1687    2                        Не похоже на сберегательный           4\n",
      "1688    2          Вклад в валюте в сбербанке , под 0,08 % .           7\n",
      "...   ...                                                ...         ...\n",
      "2198    2          Не ожидала свинского отношения к клиентам           6\n",
      "2199    2  Никогда не могла подумать,что так разочаруюсь ...           9\n",
      "2200    2                                   он еще работает?           3\n",
      "2201    2                                      Сдает позиции           2\n",
      "2202    2      На сколько реально взять ипотеку в Сбербанке?           7\n",
      "\n",
      "[519 rows x 3 columns]\n"
     ]
    }
   ],
   "source": [
    "def filter_by_rating(df: pd.DataFrame, num: str) -> pd.DataFrame:\n",
    "    return df.loc[df['num'] == num]\n",
    "print(filter_by_rating(df, 2))"
   ]
  },
  {
   "cell_type": "code",
   "execution_count": 17,
   "id": "843c5b49-4a9c-46f1-916e-3c4bf30ac068",
   "metadata": {},
   "outputs": [
    {
     "name": "stdout",
     "output_type": "stream",
     "text": [
      "    word_count               \n",
      "           min  max      mean\n",
      "num                          \n",
      "1            0  619  5.322447\n",
      "2            1   15  4.707129\n",
      "3            1   15  4.632530\n",
      "4            1  349  4.596123\n",
      "5            1   15  4.092541\n"
     ]
    }
   ],
   "source": [
    "def group_and_calculator_min_max_mean(df: pd.DataFrame) -> pd.DataFrame:\n",
    "    return df.groupby('num').agg({'word_count': ['min', 'max', 'mean']})\n",
    "print(group_and_calculator_min_max_mean(df))"
   ]
  },
  {
   "cell_type": "code",
   "execution_count": 55,
   "id": "48c11254-15fa-4bc0-8159-7bb3abab3de0",
   "metadata": {},
   "outputs": [
    {
     "data": {
      "image/png": "[encoded data removed]",
      "text/plain": [
       "<Figure size 640x480 with 1 Axes>"
      ]
     },
     "metadata": {},
     "output_type": "display_data"
    }
   ],
   "source": [
    "def lemmatize(review: str) -> List[str]:\n",
    "    review = re.sub(patterns, ' ', review)\n",
    "    tokens = nltk.word_tokenize(review.lower())\n",
    "    preprocessed_text = []\n",
    "    for token in tokens:\n",
    "        lemma = morph.parse(token)[0].normal_form\n",
    "        if lemma not in stopwords_ru:\n",
    "            preprocessed_text.append(lemma)\n",
    "    return preprocessed_text\n",
    "\n",
    "def most_popular_words(df: pd.DataFrame, rating: int) -> List[tuple[str, int]]:\n",
    "    words = df[df['num'] == rating]['text'].apply(lemmatize)\n",
    "    count = Counter()\n",
    "    for word in words:\n",
    "        count.update(word)\n",
    "    return count.most_common(20)\n",
    "\n",
    "def graph_build(list_words: List[tuple[str, int]]) -> None:\n",
    "    words, count = [], []\n",
    "    for i in range(len(list_words)):\n",
    "        words.append(list_words[i][0])\n",
    "        count.append(list_words[i][1])\n",
    "    figure, axes = plt.subplots()\n",
    "    axes.barh(words, count)\n",
    "    axes.set_xlabel('Количество')\n",
    "    axes.set_title('Гистограмма самых популярных слов')\n",
    "    plt.show()\n",
    "graph_build(most_popular_words(df, 2))"
   ]
  },
  {
   "cell_type": "code",
   "execution_count": null,
   "id": "14d47628-ceea-40f9-8a72-d5a497293a8a",
   "metadata": {},
   "outputs": [],
   "source": []
  }
 ],
 "metadata": {
  "kernelspec": {
   "display_name": "Python 3 (ipykernel)",
   "language": "python",
   "name": "python3"
  },
  "language_info": {
   "codemirror_mode": {
    "name": "ipython",
    "version": 3
   },
   "file_extension": ".py",
   "mimetype": "text/x-python",
   "name": "python",
   "nbconvert_exporter": "python",
   "pygments_lexer": "ipython3",
   "version": "3.12.0"
  }
 },
 "nbformat": 4,
 "nbformat_minor": 5
}
