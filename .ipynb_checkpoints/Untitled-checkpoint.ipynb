{
 "cells": [
  {
   "cell_type": "code",
   "execution_count": 7,
   "id": "28e84d63-70e8-4cad-b7f8-be7410203866",
   "metadata": {},
   "outputs": [
    {
     "name": "stderr",
     "output_type": "stream",
     "text": [
      "<>:16: SyntaxWarning: invalid escape sequence '\\]'\n",
      "<>:16: SyntaxWarning: invalid escape sequence '\\]'\n",
      "C:\\Users\\DELL\\AppData\\Local\\Temp\\ipykernel_4032\\2455264429.py:16: SyntaxWarning: invalid escape sequence '\\]'\n",
      "  patterns = \"[A-Za-z0-9!#$%&'()*+,./:;<=>?@[\\]^_`{|}~—\\\"\\-]+\"\n"
     ]
    },
    {
     "ename": "ModuleNotFoundError",
     "evalue": "No module named 'annotation'",
     "output_type": "error",
     "traceback": [
      "\u001b[1;31m---------------------------------------------------------------------------\u001b[0m",
      "\u001b[1;31mModuleNotFoundError\u001b[0m                       Traceback (most recent call last)",
      "Cell \u001b[1;32mIn[7], line 8\u001b[0m\n\u001b[0;32m      6\u001b[0m \u001b[38;5;28;01mimport\u001b[39;00m \u001b[38;5;21;01mnumpy\u001b[39;00m \u001b[38;5;28;01mas\u001b[39;00m \u001b[38;5;21;01mnp\u001b[39;00m\n\u001b[0;32m      7\u001b[0m \u001b[38;5;28;01mimport\u001b[39;00m \u001b[38;5;21;01mnltk\u001b[39;00m\n\u001b[1;32m----> 8\u001b[0m \u001b[38;5;28;01mfrom\u001b[39;00m \u001b[38;5;21;01mannotation\u001b[39;00m \u001b[38;5;28;01mimport\u001b[39;00m Annotation\n\u001b[0;32m      9\u001b[0m \u001b[38;5;28;01mfrom\u001b[39;00m \u001b[38;5;21;01mcreate_annotation\u001b[39;00m \u001b[38;5;28;01mimport\u001b[39;00m create_annotation \u001b[38;5;28;01mas\u001b[39;00m crt\n\u001b[0;32m     10\u001b[0m \u001b[38;5;28;01mfrom\u001b[39;00m \u001b[38;5;21;01mtyping\u001b[39;00m \u001b[38;5;28;01mimport\u001b[39;00m List, Dict, Tuple\n",
      "\u001b[1;31mModuleNotFoundError\u001b[0m: No module named 'annotation'"
     ]
    }
   ],
   "source": [
    "import csv\n",
    "import re\n",
    "import os\n",
    "import matplotlib.pyplot as plt\n",
    "import pandas as pd\n",
    "import numpy as np\n",
    "import nltk\n",
    "from annotation import Annotation\n",
    "from create_annotation import create_annotation as crt\n",
    "from typing import List, Dict, Tuple\n",
    "from collections import Counter\n",
    "from nltk.corpus import stopwords\n",
    "from pymystem3 import Mystem\n",
    "from pymorphy3 import MorphAnalyzer\n",
    "\n",
    "patterns = \"[A-Za-z0-9!#$%&'()*+,./:;<=>?@[\\]^_`{|}~—\\\"\\-]+\"\n",
    "stopwords_ru = stopwords.words(\"russian\")\n",
    "morph = MorphAnalyzer()\n",
    "\n",
    "def read_csv_to_dataframe(csv_path: str) -> pd.DataFrame:\n",
    "    try:\n",
    "        df_csv = pd.read_csv(csv_path)\n",
    "        texts = []\n",
    "\n",
    "        for absolute_path, label in zip(df_csv['Absolute Path'], df_csv['Label']):\n",
    "            with open(absolute_path, 'r', encoding='utf-8') as file:\n",
    "                text = file.read()\n",
    "                texts.append((label, text))\n",
    "\n",
    "        df_result = pd.DataFrame(texts, columns=['num', 'text'])\n",
    "        return df_result\n",
    "    except FileNotFoundError:\n",
    "        print(f\"File not found: {csv_path}\")\n",
    "        return None\n",
    "    except Exception as e:\n",
    "        print(f\"An error occurred: {e}\")\n",
    "        return None\n",
    "csv_path = \"file_csv.csv\"\n",
    "df = read_csv_to_dataframe(csv_path)\n",
    "print(df)\n"
   ]
  },
  {
   "cell_type": "code",
   "execution_count": null,
   "id": "cab48fb5-4ac9-4dc2-b6cf-68d8d0a09303",
   "metadata": {},
   "outputs": [],
   "source": []
  },
  {
   "cell_type": "code",
   "execution_count": null,
   "id": "222e382b-1be1-4f13-9f33-e79208440322",
   "metadata": {},
   "outputs": [],
   "source": []
  }
 ],
 "metadata": {
  "kernelspec": {
   "display_name": "Python 3 (ipykernel)",
   "language": "python",
   "name": "python3"
  },
  "language_info": {
   "codemirror_mode": {
    "name": "ipython",
    "version": 3
   },
   "file_extension": ".py",
   "mimetype": "text/x-python",
   "name": "python",
   "nbconvert_exporter": "python",
   "pygments_lexer": "ipython3",
   "version": "3.12.0"
  }
 },
 "nbformat": 4,
 "nbformat_minor": 5
}
